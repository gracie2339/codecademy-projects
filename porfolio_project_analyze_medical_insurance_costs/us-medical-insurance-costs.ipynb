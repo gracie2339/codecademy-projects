{
 "cells": [
  {
   "cell_type": "markdown",
   "metadata": {},
   "source": [
    "This notebook is a portfolio project from Codecademy. There is less guidance and is more open-ended for the analyst.\n",
    "\n",
    "My goals for this analysis is to analyze the data in the 'insurance.csv' file, providing some insights, and then writing a function that will be able to make any prediction from the data using linear regression. \n",
    "\n",
    "Some insights to extract:\n",
    "- What is the distribution of each variable? (Example: distribution of age, sex, bmi, etc.)"
   ]
  },
  {
   "cell_type": "markdown",
   "metadata": {},
   "source": []
  },
  {
   "cell_type": "code",
   "execution_count": null,
   "metadata": {},
   "outputs": [],
   "source": [
    "import csv\n",
    "\n",
    "with open('insurance.csv') as file:\n",
    "    "
   ]
  },
  {
   "cell_type": "markdown",
   "metadata": {},
   "source": []
  }
 ],
 "metadata": {
  "language_info": {
   "name": "python"
  },
  "orig_nbformat": 4
 },
 "nbformat": 4,
 "nbformat_minor": 2
}
